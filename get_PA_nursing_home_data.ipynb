{
 "cells": [
  {
   "cell_type": "markdown",
   "metadata": {},
   "source": [
    "# Get PA Nursing Home Data\n",
    "\n",
    "This notebook scrapes data from the Pennsylvania Department of Health, Nursing Care Facility Information database.\n",
    "\n",
    "The goal is to create a database of nursing homes in Montgomery County, PA that accept Medicaid payments."
   ]
  },
  {
   "cell_type": "markdown",
   "metadata": {},
   "source": [
    "## Import dependencies"
   ]
  },
  {
   "cell_type": "code",
   "execution_count": 1,
   "metadata": {},
   "outputs": [],
   "source": [
    "import re\n",
    "import requests\n",
    "\n",
    "from bs4 import BeautifulSoup\n",
    "import pandas as pd"
   ]
  },
  {
   "cell_type": "markdown",
   "metadata": {},
   "source": [
    "## Get the data"
   ]
  },
  {
   "cell_type": "code",
   "execution_count": 2,
   "metadata": {},
   "outputs": [],
   "source": [
    "url = 'https://sais.health.pa.gov/commonpoc/content/publicweb/nhinformation2.asp?COUNTY=Montgomery'\n",
    "html_page = requests.get(url)\n",
    "soup = BeautifulSoup(html_page.content, 'html.parser')"
   ]
  },
  {
   "cell_type": "code",
   "execution_count": 3,
   "metadata": {},
   "outputs": [],
   "source": [
    "# Use to inspect organized/indented HTML\n",
    "#print(soup.prettify())"
   ]
  },
  {
   "cell_type": "markdown",
   "metadata": {},
   "source": [
    "### Note\n",
    "Looking at the HTML revealed that there are table rows (tr) within tr, within tr...   \n",
    "So, when I loop through the rows, below, I've got to start with the 3rd tr (that is, tr[2:])"
   ]
  },
  {
   "cell_type": "markdown",
   "metadata": {},
   "source": [
    "## Extract the HTML table, with the target data\n",
    "The target data are in the last table (`tables[-1]`) on the page."
   ]
  },
  {
   "cell_type": "code",
   "execution_count": 4,
   "metadata": {},
   "outputs": [],
   "source": [
    "tables = soup.find_all('table')"
   ]
  },
  {
   "cell_type": "markdown",
   "metadata": {},
   "source": [
    "### Get column header info"
   ]
  },
  {
   "cell_type": "code",
   "execution_count": 5,
   "metadata": {},
   "outputs": [],
   "source": [
    "table_headers = tables[-1].find_all('th')"
   ]
  },
  {
   "cell_type": "code",
   "execution_count": 6,
   "metadata": {},
   "outputs": [],
   "source": [
    "columns = []\n",
    "for header in table_headers:\n",
    "    columns.append(header.getText())"
   ]
  },
  {
   "cell_type": "markdown",
   "metadata": {},
   "source": [
    "### Make DataFrame"
   ]
  },
  {
   "cell_type": "code",
   "execution_count": 7,
   "metadata": {},
   "outputs": [],
   "source": [
    "table_rows = tables[-1].find_all('tr')\n",
    "\n",
    "list_of_rows = []\n",
    "\n",
    "# Remember the tr within tr within tr... need to start at [2:]\n",
    "for tr in table_rows[2:]:\n",
    "    td = tr.find_all('td')\n",
    "    row = [tr.text for tr in td]\n",
    "    \n",
    "    list_of_rows.append(row)\n",
    "\n",
    "df = pd.DataFrame(data=list_of_rows, columns=columns)"
   ]
  },
  {
   "cell_type": "markdown",
   "metadata": {},
   "source": [
    "## Select just the nursing homes that have Medicaid beds\n",
    "(And drop the 'Select' column, too.)"
   ]
  },
  {
   "cell_type": "code",
   "execution_count": 8,
   "metadata": {},
   "outputs": [],
   "source": [
    "df_Medicaid = df[df['Payment Options'].str.contains('Medicaid')].drop(columns='Select')"
   ]
  },
  {
   "cell_type": "markdown",
   "metadata": {},
   "source": [
    "## Clean the DataFrame"
   ]
  },
  {
   "cell_type": "markdown",
   "metadata": {},
   "source": [
    "### Strip leading and trailing spaces"
   ]
  },
  {
   "cell_type": "code",
   "execution_count": 9,
   "metadata": {},
   "outputs": [],
   "source": [
    "df_Medicaid['Name/Address/Phone'] = df_Medicaid['Name/Address/Phone'].str.strip()"
   ]
  },
  {
   "cell_type": "markdown",
   "metadata": {},
   "source": [
    "### Remove all text (.*) after \"(Open)\""
   ]
  },
  {
   "cell_type": "code",
   "execution_count": 10,
   "metadata": {},
   "outputs": [],
   "source": [
    "df_Medicaid['Name/Address/Phone'] = df_Medicaid['Name/Address/Phone'].str.replace('\\(Open\\).*$', '', regex=True)"
   ]
  },
  {
   "cell_type": "code",
   "execution_count": 11,
   "metadata": {},
   "outputs": [
    {
     "data": {
      "text/plain": [
       "'(BrightenaataAmbler)AMBLER EXTENDED CARE CENTER32 SOUTH BETHLEHEM PIKEAMBLER\\xa0PA\\xa019002(215)646-7050'"
      ]
     },
     "execution_count": 11,
     "metadata": {},
     "output_type": "execute_result"
    }
   ],
   "source": [
    "df_Medicaid['Name/Address/Phone'][2]"
   ]
  },
  {
   "cell_type": "markdown",
   "metadata": {},
   "source": [
    "### Remove leading parentheticals"
   ]
  },
  {
   "cell_type": "code",
   "execution_count": 12,
   "metadata": {},
   "outputs": [
    {
     "data": {
      "text/html": [
       "<div>\n",
       "<style scoped>\n",
       "    .dataframe tbody tr th:only-of-type {\n",
       "        vertical-align: middle;\n",
       "    }\n",
       "\n",
       "    .dataframe tbody tr th {\n",
       "        vertical-align: top;\n",
       "    }\n",
       "\n",
       "    .dataframe thead th {\n",
       "        text-align: right;\n",
       "    }\n",
       "</style>\n",
       "<table border=\"1\" class=\"dataframe\">\n",
       "  <thead>\n",
       "    <tr style=\"text-align: right;\">\n",
       "      <th></th>\n",
       "      <th>x</th>\n",
       "    </tr>\n",
       "  </thead>\n",
       "  <tbody>\n",
       "    <tr>\n",
       "      <th>0</th>\n",
       "      <td>(foo)(bar)ABC(baz)</td>\n",
       "    </tr>\n",
       "    <tr>\n",
       "      <th>1</th>\n",
       "      <td>(bar)ABC(baz)</td>\n",
       "    </tr>\n",
       "    <tr>\n",
       "      <th>2</th>\n",
       "      <td>ABC(baz)</td>\n",
       "    </tr>\n",
       "    <tr>\n",
       "      <th>3</th>\n",
       "      <td>ABC(baz)XYZ</td>\n",
       "    </tr>\n",
       "  </tbody>\n",
       "</table>\n",
       "</div>"
      ],
      "text/plain": [
       "                    x\n",
       "0  (foo)(bar)ABC(baz)\n",
       "1       (bar)ABC(baz)\n",
       "2            ABC(baz)\n",
       "3         ABC(baz)XYZ"
      ]
     },
     "execution_count": 12,
     "metadata": {},
     "output_type": "execute_result"
    }
   ],
   "source": [
    "test_data = ['(foo)(bar)ABC(baz)',\n",
    "             '(bar)ABC(baz)',\n",
    "             'ABC(baz)',\n",
    "             'ABC(baz)XYZ']\n",
    "\n",
    "test_df = pd.DataFrame(data=test_data, columns=['x'])\n",
    "test_df"
   ]
  },
  {
   "cell_type": "code",
   "execution_count": 23,
   "metadata": {},
   "outputs": [],
   "source": [
    "# Regular expression with two groups:\n",
    "# 1) One (or more) parentheticals at the beginning of the string, with a lookahead assertion that \n",
    "#    the closing paren is immediately followed by a capital letter\n",
    "# 2) The rest of the line from the first capital letter forward.\n",
    "parenthetical_regex = '(^\\(.*\\)+(?=[A-Z]))?([A-Z].*$)'"
   ]
  },
  {
   "cell_type": "code",
   "execution_count": 24,
   "metadata": {},
   "outputs": [
    {
     "data": {
      "text/html": [
       "<div>\n",
       "<style scoped>\n",
       "    .dataframe tbody tr th:only-of-type {\n",
       "        vertical-align: middle;\n",
       "    }\n",
       "\n",
       "    .dataframe tbody tr th {\n",
       "        vertical-align: top;\n",
       "    }\n",
       "\n",
       "    .dataframe thead th {\n",
       "        text-align: right;\n",
       "    }\n",
       "</style>\n",
       "<table border=\"1\" class=\"dataframe\">\n",
       "  <thead>\n",
       "    <tr style=\"text-align: right;\">\n",
       "      <th></th>\n",
       "      <th>0</th>\n",
       "      <th>1</th>\n",
       "    </tr>\n",
       "  </thead>\n",
       "  <tbody>\n",
       "    <tr>\n",
       "      <th>0</th>\n",
       "      <td>(foo)(bar)</td>\n",
       "      <td>ABC(baz)</td>\n",
       "    </tr>\n",
       "    <tr>\n",
       "      <th>1</th>\n",
       "      <td>(bar)</td>\n",
       "      <td>ABC(baz)</td>\n",
       "    </tr>\n",
       "    <tr>\n",
       "      <th>2</th>\n",
       "      <td>NaN</td>\n",
       "      <td>ABC(baz)</td>\n",
       "    </tr>\n",
       "    <tr>\n",
       "      <th>3</th>\n",
       "      <td>NaN</td>\n",
       "      <td>ABC(baz)XYZ</td>\n",
       "    </tr>\n",
       "  </tbody>\n",
       "</table>\n",
       "</div>"
      ],
      "text/plain": [
       "            0            1\n",
       "0  (foo)(bar)     ABC(baz)\n",
       "1       (bar)     ABC(baz)\n",
       "2         NaN     ABC(baz)\n",
       "3         NaN  ABC(baz)XYZ"
      ]
     },
     "execution_count": 24,
     "metadata": {},
     "output_type": "execute_result"
    }
   ],
   "source": [
    "test_df['x'].str.extract(parenthetical_regex)"
   ]
  },
  {
   "cell_type": "code",
   "execution_count": 15,
   "metadata": {},
   "outputs": [
    {
     "data": {
      "text/html": [
       "<div>\n",
       "<style scoped>\n",
       "    .dataframe tbody tr th:only-of-type {\n",
       "        vertical-align: middle;\n",
       "    }\n",
       "\n",
       "    .dataframe tbody tr th {\n",
       "        vertical-align: top;\n",
       "    }\n",
       "\n",
       "    .dataframe thead th {\n",
       "        text-align: right;\n",
       "    }\n",
       "</style>\n",
       "<table border=\"1\" class=\"dataframe\">\n",
       "  <thead>\n",
       "    <tr style=\"text-align: right;\">\n",
       "      <th></th>\n",
       "      <th>Name/Address/Phone</th>\n",
       "      <th>Type of Ownership</th>\n",
       "      <th>Licensure Status</th>\n",
       "      <th>Last Inspection</th>\n",
       "      <th>Size of Facility</th>\n",
       "      <th>Number of Beds</th>\n",
       "      <th>Payment Options</th>\n",
       "      <th>Nursing Hours Per Resident Per Day</th>\n",
       "    </tr>\n",
       "  </thead>\n",
       "  <tbody>\n",
       "    <tr>\n",
       "      <th>0</th>\n",
       "      <td>ABRAMSON RESIDENCE1425 HORSHAM ROADNORTH WALES...</td>\n",
       "      <td>NON-PROFIT</td>\n",
       "      <td>REGULAR</td>\n",
       "      <td>1/27/2020</td>\n",
       "      <td>Large</td>\n",
       "      <td>324</td>\n",
       "      <td>Private PaymentMedicareMedicaid</td>\n",
       "      <td>3.5</td>\n",
       "    </tr>\n",
       "    <tr>\n",
       "      <th>2</th>\n",
       "      <td>AMBLER EXTENDED CARE CENTER32 SOUTH BETHLEHEM ...</td>\n",
       "      <td>PROFIT</td>\n",
       "      <td>REGULAR</td>\n",
       "      <td>6/12/2020</td>\n",
       "      <td>Small</td>\n",
       "      <td>100</td>\n",
       "      <td>Private PaymentMedicareMedicaid</td>\n",
       "      <td>3.01</td>\n",
       "    </tr>\n",
       "    <tr>\n",
       "      <th>3</th>\n",
       "      <td>ARISTACARE AT MEADOW SPRINGS845 GERMANTOWN PIK...</td>\n",
       "      <td>PROFIT</td>\n",
       "      <td>REGULAR</td>\n",
       "      <td>11/6/2019</td>\n",
       "      <td>Medium</td>\n",
       "      <td>153</td>\n",
       "      <td>Private PaymentMedicareMedicaid</td>\n",
       "      <td>4.84</td>\n",
       "    </tr>\n",
       "    <tr>\n",
       "      <th>4</th>\n",
       "      <td>ARTMAN LUTHERAN HOME250 NORTH BETHLEHEM PIKEAM...</td>\n",
       "      <td>NON-PROFIT</td>\n",
       "      <td>REGULAR</td>\n",
       "      <td>1/2/2020</td>\n",
       "      <td>Small</td>\n",
       "      <td>61</td>\n",
       "      <td>Private PaymentMedicareMedicaid</td>\n",
       "      <td>4.67</td>\n",
       "    </tr>\n",
       "    <tr>\n",
       "      <th>6</th>\n",
       "      <td>BROOKSIDE HEALTHCARE AND REHABILITATION CENTER...</td>\n",
       "      <td>PROFIT</td>\n",
       "      <td>REGULAR</td>\n",
       "      <td>5/26/2020</td>\n",
       "      <td>Medium</td>\n",
       "      <td>120</td>\n",
       "      <td>Private PaymentMedicareMedicaid</td>\n",
       "      <td>3.24</td>\n",
       "    </tr>\n",
       "  </tbody>\n",
       "</table>\n",
       "</div>"
      ],
      "text/plain": [
       "                                  Name/Address/Phone Type of Ownership  \\\n",
       "0  ABRAMSON RESIDENCE1425 HORSHAM ROADNORTH WALES...        NON-PROFIT   \n",
       "2  AMBLER EXTENDED CARE CENTER32 SOUTH BETHLEHEM ...            PROFIT   \n",
       "3  ARISTACARE AT MEADOW SPRINGS845 GERMANTOWN PIK...            PROFIT   \n",
       "4  ARTMAN LUTHERAN HOME250 NORTH BETHLEHEM PIKEAM...        NON-PROFIT   \n",
       "6  BROOKSIDE HEALTHCARE AND REHABILITATION CENTER...            PROFIT   \n",
       "\n",
       "  Licensure Status Last Inspection Size of Facility Number of Beds  \\\n",
       "0          REGULAR       1/27/2020            Large            324   \n",
       "2          REGULAR       6/12/2020            Small            100   \n",
       "3          REGULAR       11/6/2019           Medium            153   \n",
       "4          REGULAR        1/2/2020            Small             61   \n",
       "6          REGULAR       5/26/2020           Medium            120   \n",
       "\n",
       "                   Payment Options Nursing Hours Per Resident Per Day  \n",
       "0  Private PaymentMedicareMedicaid                                3.5  \n",
       "2  Private PaymentMedicareMedicaid                               3.01  \n",
       "3  Private PaymentMedicareMedicaid                               4.84  \n",
       "4  Private PaymentMedicareMedicaid                               4.67  \n",
       "6  Private PaymentMedicareMedicaid                               3.24  "
      ]
     },
     "execution_count": 15,
     "metadata": {},
     "output_type": "execute_result"
    }
   ],
   "source": [
    "df_Medicaid['Name/Address/Phone'] = df_Medicaid['Name/Address/Phone'].str.extract(parenthetical_regex)[1] # Want the second group\n",
    "df_Medicaid.head()"
   ]
  },
  {
   "cell_type": "markdown",
   "metadata": {},
   "source": [
    "### Remove phone numbers from Name/Address/Phone and put in own column"
   ]
  },
  {
   "cell_type": "code",
   "execution_count": 16,
   "metadata": {
    "scrolled": true
   },
   "outputs": [
    {
     "data": {
      "text/plain": [
       "'(215) 483-7799'"
      ]
     },
     "execution_count": 16,
     "metadata": {},
     "output_type": "execute_result"
    }
   ],
   "source": [
    "# Regex pattern for a phone number in these formats: (XXX) XXX-XXXX, (XXX)XXX-XXXX\n",
    "# Source: https://regexlib.com/Search.aspx?k=phone\n",
    "phone_regex = r'(\\(\\d{3}\\) ?\\d{3}-\\d{4})'\n",
    "\n",
    "test_str = \"This string contains a phone number: (215) 483-7799, let's see if I can pick it out!\"\n",
    "\n",
    "foo = re.search(phone_regex, test_str).group(0) # group(0) returns the entire match string\n",
    "foo"
   ]
  },
  {
   "cell_type": "code",
   "execution_count": 17,
   "metadata": {},
   "outputs": [
    {
     "data": {
      "text/html": [
       "<div>\n",
       "<style scoped>\n",
       "    .dataframe tbody tr th:only-of-type {\n",
       "        vertical-align: middle;\n",
       "    }\n",
       "\n",
       "    .dataframe tbody tr th {\n",
       "        vertical-align: top;\n",
       "    }\n",
       "\n",
       "    .dataframe thead th {\n",
       "        text-align: right;\n",
       "    }\n",
       "</style>\n",
       "<table border=\"1\" class=\"dataframe\">\n",
       "  <thead>\n",
       "    <tr style=\"text-align: right;\">\n",
       "      <th></th>\n",
       "      <th>Name/Address/Phone</th>\n",
       "      <th>Phone Number</th>\n",
       "      <th>Type of Ownership</th>\n",
       "      <th>Licensure Status</th>\n",
       "      <th>Last Inspection</th>\n",
       "      <th>Size of Facility</th>\n",
       "      <th>Number of Beds</th>\n",
       "      <th>Payment Options</th>\n",
       "      <th>Nursing Hours Per Resident Per Day</th>\n",
       "    </tr>\n",
       "  </thead>\n",
       "  <tbody>\n",
       "    <tr>\n",
       "      <th>0</th>\n",
       "      <td>ABRAMSON RESIDENCE1425 HORSHAM ROADNORTH WALES...</td>\n",
       "      <td>(215) 371-3000</td>\n",
       "      <td>NON-PROFIT</td>\n",
       "      <td>REGULAR</td>\n",
       "      <td>1/27/2020</td>\n",
       "      <td>Large</td>\n",
       "      <td>324</td>\n",
       "      <td>Private PaymentMedicareMedicaid</td>\n",
       "      <td>3.5</td>\n",
       "    </tr>\n",
       "    <tr>\n",
       "      <th>2</th>\n",
       "      <td>AMBLER EXTENDED CARE CENTER32 SOUTH BETHLEHEM ...</td>\n",
       "      <td>(215) 646-7050</td>\n",
       "      <td>PROFIT</td>\n",
       "      <td>REGULAR</td>\n",
       "      <td>6/12/2020</td>\n",
       "      <td>Small</td>\n",
       "      <td>100</td>\n",
       "      <td>Private PaymentMedicareMedicaid</td>\n",
       "      <td>3.01</td>\n",
       "    </tr>\n",
       "    <tr>\n",
       "      <th>3</th>\n",
       "      <td>ARISTACARE AT MEADOW SPRINGS845 GERMANTOWN PIK...</td>\n",
       "      <td>(610) 279-7300</td>\n",
       "      <td>PROFIT</td>\n",
       "      <td>REGULAR</td>\n",
       "      <td>11/6/2019</td>\n",
       "      <td>Medium</td>\n",
       "      <td>153</td>\n",
       "      <td>Private PaymentMedicareMedicaid</td>\n",
       "      <td>4.84</td>\n",
       "    </tr>\n",
       "    <tr>\n",
       "      <th>4</th>\n",
       "      <td>ARTMAN LUTHERAN HOME250 NORTH BETHLEHEM PIKEAM...</td>\n",
       "      <td>(215) 643-6335</td>\n",
       "      <td>NON-PROFIT</td>\n",
       "      <td>REGULAR</td>\n",
       "      <td>1/2/2020</td>\n",
       "      <td>Small</td>\n",
       "      <td>61</td>\n",
       "      <td>Private PaymentMedicareMedicaid</td>\n",
       "      <td>4.67</td>\n",
       "    </tr>\n",
       "    <tr>\n",
       "      <th>6</th>\n",
       "      <td>BROOKSIDE HEALTHCARE AND REHABILITATION CENTER...</td>\n",
       "      <td>(215) 884-6776</td>\n",
       "      <td>PROFIT</td>\n",
       "      <td>REGULAR</td>\n",
       "      <td>5/26/2020</td>\n",
       "      <td>Medium</td>\n",
       "      <td>120</td>\n",
       "      <td>Private PaymentMedicareMedicaid</td>\n",
       "      <td>3.24</td>\n",
       "    </tr>\n",
       "  </tbody>\n",
       "</table>\n",
       "</div>"
      ],
      "text/plain": [
       "                                  Name/Address/Phone    Phone Number  \\\n",
       "0  ABRAMSON RESIDENCE1425 HORSHAM ROADNORTH WALES...  (215) 371-3000   \n",
       "2  AMBLER EXTENDED CARE CENTER32 SOUTH BETHLEHEM ...  (215) 646-7050   \n",
       "3  ARISTACARE AT MEADOW SPRINGS845 GERMANTOWN PIK...  (610) 279-7300   \n",
       "4  ARTMAN LUTHERAN HOME250 NORTH BETHLEHEM PIKEAM...  (215) 643-6335   \n",
       "6  BROOKSIDE HEALTHCARE AND REHABILITATION CENTER...  (215) 884-6776   \n",
       "\n",
       "  Type of Ownership Licensure Status Last Inspection Size of Facility  \\\n",
       "0        NON-PROFIT          REGULAR       1/27/2020            Large   \n",
       "2            PROFIT          REGULAR       6/12/2020            Small   \n",
       "3            PROFIT          REGULAR       11/6/2019           Medium   \n",
       "4        NON-PROFIT          REGULAR        1/2/2020            Small   \n",
       "6            PROFIT          REGULAR       5/26/2020           Medium   \n",
       "\n",
       "  Number of Beds                  Payment Options  \\\n",
       "0            324  Private PaymentMedicareMedicaid   \n",
       "2            100  Private PaymentMedicareMedicaid   \n",
       "3            153  Private PaymentMedicareMedicaid   \n",
       "4             61  Private PaymentMedicareMedicaid   \n",
       "6            120  Private PaymentMedicareMedicaid   \n",
       "\n",
       "  Nursing Hours Per Resident Per Day  \n",
       "0                                3.5  \n",
       "2                               3.01  \n",
       "3                               4.84  \n",
       "4                               4.67  \n",
       "6                               3.24  "
      ]
     },
     "execution_count": 17,
     "metadata": {},
     "output_type": "execute_result"
    }
   ],
   "source": [
    "df_Medicaid.insert(1, 'Phone Number', df_Medicaid['Name/Address/Phone'].str.extract(phone_regex))\n",
    "df_Medicaid['Phone Number'] = df_Medicaid['Phone Number'].str.replace(')', ') ', regex=False)\n",
    "df_Medicaid.head()"
   ]
  },
  {
   "cell_type": "markdown",
   "metadata": {},
   "source": [
    "### Remove phone number from Name/Address/Phone and rename to just Name/Address"
   ]
  },
  {
   "cell_type": "code",
   "execution_count": 18,
   "metadata": {},
   "outputs": [
    {
     "data": {
      "text/plain": [
       "'ABRAMSON RESIDENCE1425 HORSHAM ROADNORTH WALES\\xa0PA\\xa019454'"
      ]
     },
     "execution_count": 18,
     "metadata": {},
     "output_type": "execute_result"
    }
   ],
   "source": [
    "df_Medicaid['Name/Address/Phone'] = df_Medicaid['Name/Address/Phone'].str.replace(phone_regex, '')\n",
    "df_Medicaid.rename(columns={'Name/Address/Phone' : 'Name/Address'}, inplace=True)\n",
    "df_Medicaid['Name/Address'][0]"
   ]
  },
  {
   "cell_type": "markdown",
   "metadata": {},
   "source": [
    "### Split Name and Address of the facility"
   ]
  },
  {
   "cell_type": "code",
   "execution_count": 19,
   "metadata": {},
   "outputs": [
    {
     "data": {
      "text/plain": [
       "0                                ABRAMSON RESIDENCE\n",
       "2                       AMBLER EXTENDED CARE CENTER\n",
       "3                      ARISTACARE AT MEADOW SPRINGS\n",
       "4                              ARTMAN LUTHERAN HOME\n",
       "6    BROOKSIDE HEALTHCARE AND REHABILITATION CENTER\n",
       "Name: Name, dtype: object"
      ]
     },
     "execution_count": 19,
     "metadata": {},
     "output_type": "execute_result"
    }
   ],
   "source": [
    "name_regex = r'^(.+?)\\d'\n",
    "df_Medicaid.insert(0, 'Name', df_Medicaid['Name/Address'].str.extract(name_regex))\n",
    "df_Medicaid['Name'].head()"
   ]
  },
  {
   "cell_type": "code",
   "execution_count": 20,
   "metadata": {},
   "outputs": [
    {
     "data": {
      "text/plain": [
       "0           1425 HORSHAM ROADNORTH WALES PA 19454\n",
       "2          32 SOUTH BETHLEHEM PIKEAMBLER PA 19002\n",
       "3    845 GERMANTOWN PIKEPLYMOUTH MEETING PA 19462\n",
       "4         250 NORTH BETHLEHEM PIKEAMBLER PA 19002\n",
       "6               2630 WOODLAND ROADROSLYN PA 19001\n",
       "Name: Address, dtype: object"
      ]
     },
     "execution_count": 20,
     "metadata": {},
     "output_type": "execute_result"
    }
   ],
   "source": [
    "address_regex = r'(\\d.*)$'\n",
    "df_Medicaid.insert(1, 'Address', df_Medicaid['Name/Address'].str.extract(address_regex))\n",
    "df_Medicaid['Address'].head()"
   ]
  },
  {
   "cell_type": "code",
   "execution_count": 21,
   "metadata": {},
   "outputs": [],
   "source": [
    "# Drop 'Name/Address'\n",
    "df_Medicaid.drop(columns=['Name/Address'], inplace=True)"
   ]
  },
  {
   "cell_type": "markdown",
   "metadata": {},
   "source": [
    "## Write out the data to a CSV file"
   ]
  },
  {
   "cell_type": "code",
   "execution_count": 22,
   "metadata": {},
   "outputs": [],
   "source": [
    "df_Medicaid.to_csv('output/Montgomery_County_PA_nursing_homes_with_Medicaid_beds.csv', index=False)"
   ]
  }
 ],
 "metadata": {
  "kernelspec": {
   "display_name": "Python 3",
   "language": "python",
   "name": "python3"
  },
  "language_info": {
   "codemirror_mode": {
    "name": "ipython",
    "version": 3
   },
   "file_extension": ".py",
   "mimetype": "text/x-python",
   "name": "python",
   "nbconvert_exporter": "python",
   "pygments_lexer": "ipython3",
   "version": "3.7.3"
  }
 },
 "nbformat": 4,
 "nbformat_minor": 4
}
